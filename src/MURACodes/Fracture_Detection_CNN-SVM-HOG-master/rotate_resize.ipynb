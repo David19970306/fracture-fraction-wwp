{
 "cells": [
  {
   "cell_type": "markdown",
   "metadata": {},
   "source": [
    "# Rotate"
   ]
  },
  {
   "cell_type": "code",
   "execution_count": 5,
   "metadata": {},
   "outputs": [],
   "source": [
    "from PIL import Image\n",
    "################### load image names file\n",
    "with open('/home/xiaoran/Dropbox/svm/ff/ff.txt') as f:\n",
    "    names = f.readlines()\n",
    "    names = [x.strip() for x in names] \n",
    "    \n",
    "    \n",
    "## Load the original image:   \n",
    "for name in names:\n",
    "    img = Image.open('/home/xiaoran/Dropbox/svm/ff/'+name)\n",
    "    \n",
    "    img2 = img.rotate(90)\n",
    "    img2.save('/home/xiaoran/Dropbox/svm_Over3/ff_flip/'+str(name)+'_90.jpg')\n",
    "    \n",
    "    img3 = img.rotate(-90)\n",
    "    img3.save('/home/xiaoran/Dropbox/svm_Over3/ff_flip/'+str(name)+'_90_2.jpg')  \n",
    "              \n",
    "    img4 = img.rotate(180)\n",
    "    img4.save('/home/xiaoran/Dropbox/svm_Over3/ff_flip/'+str(name)+'_180.jpg')"
   ]
  },
  {
   "cell_type": "markdown",
   "metadata": {},
   "source": [
    "# Resize"
   ]
  },
  {
   "cell_type": "code",
   "execution_count": 6,
   "metadata": {
    "collapsed": true
   },
   "outputs": [],
   "source": [
    "# import the necessary packages\n",
    "import cv2"
   ]
  },
  {
   "cell_type": "code",
   "execution_count": 12,
   "metadata": {},
   "outputs": [],
   "source": [
    "def resize(pic_name):    \n",
    "    ## load the image and show it\n",
    "    img = cv2.imread(pic_name)\n",
    "#     img = cv2.cvtColor( image, cv2.COLOR_RGB2GRAY )\n",
    "    \n",
    "    ### we need to keep in mind aspect ratio so the image does not look skewed or distorted -- therefore, we calculate\n",
    "    ### the ratio of the new image to the old image\n",
    "#     r = 32\n",
    "    dim = (32, 32)\n",
    "    # \n",
    "    ## perform the actual resizing of the image and show it\n",
    "    resized = cv2.resize(img, dim, interpolation = cv2.INTER_AREA)\n",
    "    #cv2.imshow(\"resized\", resized)\n",
    "    #cv2.waitKey(0)\n",
    "    return resized"
   ]
  },
  {
   "cell_type": "code",
   "execution_count": 14,
   "metadata": {},
   "outputs": [],
   "source": [
    "with open('/home/xiaoran/Dropbox/svm_Over3/flipnames.txt') as f:\n",
    "#with open('test.txt') as f:\n",
    "    names = f.readlines()\n",
    "    names = [x.strip() for x in names] \n",
    "    \n",
    "num = 0    \n",
    "for name in names:\n",
    "#    arr = ToZero(name)\n",
    "    resized = resize('/home/xiaoran/Dropbox/svm_Over3/whole/'+name)\n",
    "    cv2.imwrite('/home/xiaoran/Dropbox/svm_Over3/resize/'+name, resized)"
   ]
  },
  {
   "cell_type": "code",
   "execution_count": null,
   "metadata": {
    "collapsed": true
   },
   "outputs": [],
   "source": []
  }
 ],
 "metadata": {
  "kernelspec": {
   "display_name": "Python 3",
   "language": "python",
   "name": "python3"
  },
  "language_info": {
   "codemirror_mode": {
    "name": "ipython",
    "version": 3
   },
   "file_extension": ".py",
   "mimetype": "text/x-python",
   "name": "python",
   "nbconvert_exporter": "python",
   "pygments_lexer": "ipython3",
   "version": "3.7.4"
  }
 },
 "nbformat": 4,
 "nbformat_minor": 2
}
